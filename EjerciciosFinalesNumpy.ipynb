{
 "cells": [
  {
   "cell_type": "markdown",
   "id": "curious-affect",
   "metadata": {},
   "source": [
    "# Ejercicio Notebook 7\n",
    "## Diferencia entre *matrix* y *array* en Numpy"
   ]
  },
  {
   "cell_type": "markdown",
   "id": "working-damages",
   "metadata": {},
   "source": [
    "Las matrices (matrix) en Numpy deben ser de 2 dimensiones, a diferencia de los arreglos (arrays) que pueden ser multi-dimensionales (1D, 2D, 3D,...,ND). Los objetos de matriz son una subclase de ndarray, por lo que heredan todos los atributos y métodos de ndarrays.\n",
    "\n",
    "La principal ventaja de una matriz en Numpy es: *es relativamente simple hacer la operación de multiplicación*. Por ejemplo, a y b son dos matrices, entonces a*b es una matriz producto."
   ]
  },
  {
   "cell_type": "code",
   "execution_count": 1,
   "id": "accessory-relief",
   "metadata": {},
   "outputs": [
    {
     "name": "stdout",
     "output_type": "stream",
     "text": [
      "Matriz a: [[4 3]\n",
      " [2 1]]\n",
      "Matriz b: [[1 2]\n",
      " [3 4]]\n",
      "Matriz c: [[13 20]\n",
      " [ 5  8]]\n"
     ]
    }
   ],
   "source": [
    "import numpy as np\n",
    "\n",
    "a=np.mat('4 3; 2 1')\n",
    "b=np.mat('1 2; 3 4')\n",
    "\n",
    "print(\"Matriz a:\",a)\n",
    "print(\"Matriz b:\",b)\n",
    "c=a*b\n",
    "print(\"Matriz c:\",c)"
   ]
  },
  {
   "cell_type": "markdown",
   "id": "comparative-formation",
   "metadata": {},
   "source": [
    "Lo contrario es que en un arreglo de numpy las operaciones se realizan elemento por elemento, por lo que en el siguente ejemplo la operación del arreglo c*d será diferente al resultado de a*b aunque tengan los mismos valores en las mismas posiciones:"
   ]
  },
  {
   "cell_type": "code",
   "execution_count": 2,
   "id": "running-gothic",
   "metadata": {},
   "outputs": [
    {
     "name": "stdout",
     "output_type": "stream",
     "text": [
      "Matriz c: [[4 3]\n",
      " [2 1]]\n",
      "Matriz d: [[1 2]\n",
      " [3 4]]\n",
      "Matriz e: [[4 6]\n",
      " [6 4]]\n"
     ]
    }
   ],
   "source": [
    "c=np.array([[4, 3], [2, 1]])\n",
    "d=np.array([[1, 2], [3, 4]])\n",
    "print(\"Matriz c:\",c)\n",
    "print(\"Matriz d:\",d)\n",
    "e=c*d\n",
    "print(\"Matriz e:\",e)"
   ]
  },
  {
   "cell_type": "markdown",
   "id": "private-processor",
   "metadata": {},
   "source": [
    "Para multiplicar un arreglo como matrices se utiliza el comando dot de Numpy"
   ]
  },
  {
   "cell_type": "code",
   "execution_count": 3,
   "id": "enormous-efficiency",
   "metadata": {},
   "outputs": [
    {
     "name": "stdout",
     "output_type": "stream",
     "text": [
      "Matriz f: [[13 20]\n",
      " [ 5  8]]\n"
     ]
    }
   ],
   "source": [
    "f=np.dot(c,d)\n",
    "print(\"Matriz f:\",f)"
   ]
  },
  {
   "cell_type": "markdown",
   "id": "major-shareware",
   "metadata": {},
   "source": [
    "Como a es una matriz, ** devuelve el producto de la matriz a*a."
   ]
  },
  {
   "cell_type": "code",
   "execution_count": 4,
   "id": "republican-brake",
   "metadata": {},
   "outputs": [
    {
     "name": "stdout",
     "output_type": "stream",
     "text": [
      "[[4 3]\n",
      " [2 1]]\n",
      "[[22 15]\n",
      " [10  7]]\n"
     ]
    }
   ],
   "source": [
    "print(a)\n",
    "print(a**2)"
   ]
  },
  {
   "cell_type": "markdown",
   "id": "signed-somewhere",
   "metadata": {},
   "source": [
    "Como c es una array, ** devuelve una array con cada componente en forma de elemento cuadrado."
   ]
  },
  {
   "cell_type": "code",
   "execution_count": 5,
   "id": "bulgarian-chester",
   "metadata": {},
   "outputs": [
    {
     "name": "stdout",
     "output_type": "stream",
     "text": [
      "[[4 3]\n",
      " [2 1]]\n",
      "[[16  9]\n",
      " [ 4  1]]\n"
     ]
    }
   ],
   "source": [
    "print(c)\n",
    "print(c**2)"
   ]
  },
  {
   "cell_type": "markdown",
   "id": "higher-phenomenon",
   "metadata": {},
   "source": [
    "Existen otras diferencias técnicas entre los objetos de matriz y las arreglos (arrays) (que tienen que ver con np.ravel, selección de elementos y comportamiento de secuencia).\n",
    "\n",
    "La principal ventaja de las matrices numpy es que son más generales que las matrices bidimensionales. ¿Qué pasa cuando quieres una matriz tridimensional? Entonces tienes que usar un ndarray, no un objeto de matriz. Por lo tanto, aprender a usar objetos matriciales es más trabajo, tiene que aprender las operaciones de objetos matriciales y las operaciones ndarray.\n",
    "\n",
    "Escribir un programa que use matrices y matrices hace que su vida sea difícil porque tiene que hacer un seguimiento de qué tipo de objeto son sus variables, para que la multiplicación no devuelva algo que no espera.\n",
    "\n",
    "Por el contrario, si solo utiliza ndarrays, puede hacer todo lo que pueden hacer los objetos de la matriz, y más, excepto con funciones/notaciones ligeramente diferentes."
   ]
  },
  {
   "cell_type": "markdown",
   "id": "productive-prediction",
   "metadata": {},
   "source": [
    "## array o matrix, ¿cuál debo usar?"
   ]
  },
  {
   "cell_type": "markdown",
   "id": "asian-asset",
   "metadata": {},
   "source": [
    "Históricamente, NumPy ha proporcionado un tipo de matriz especial, np.matrix, que como dijimos anteriormente es una subclase de ndarray que hace que las operaciones binarias sean operaciones de álgebra lineal. Puede verlo usado en algún código existente en lugar de np.array. Entonces, ¿cuál usar?\n",
    "\n",
    "***Usar matrix.***\n",
    "\n",
    "NumPy contiene tanto una clase de matriz como una clase de matriz. La clase de array está destinada a ser un arrego n-dimensional de propósito general para muchos tipos de computación numérica, mientras que la matrix está destinada a facilitar específicamente los cálculos de álgebra lineal. En la práctica, solo hay un puñado de diferencias clave entre los dos.\n",
    "\n",
    "**Operadores * y @, funciones punto () y multiplicar ():**\n",
    "\n",
    "Para un array, `` * `` significa multiplicación por elementos, mientras que `` @ `` significa multiplicación de matrices; tienen funciones asociadas multiply () y dot (). (Antes de Python 3.5, @ no existía y había que usar dot () para la multiplicación de matrices).\n",
    "\n",
    "Para la matrix, `` * `` significa multiplicación de la matriz, y para la multiplicación por elementos, uno tiene que usar la función multiplicar ().\n",
    "\n",
    "**Manejo de vectores (matrices unidimensionales)**\n",
    "\n",
    "Para la array, las formas vectoriales 1xN, Nx1 y N son todas cosas diferentes. Operaciones como A [:, 1] devuelven un arreglo unidimensional de forma N, no una matriz bidimensional de forma Nx1. La transposición en una matriz unidimensional no hace nada.\n",
    "\n",
    "Para matrix, las matrices unidimensionales siempre se convierten en matrices 1xN o Nx1 (vectores de fila o columna). A [:, 1] devuelve una matriz bidimensional de forma Nx1.\n",
    "\n",
    "**Manejo de arrays de dimensiones superiores (ndim> 2)**\n",
    "\n",
    "Los objetos de array pueden tener un número de dimensiones> 2;\n",
    "\n",
    "Los objetos de matrix siempre tienen exactamente dos dimensiones.\n",
    "\n",
    "**Atributos de conveniencia**\n",
    "\n",
    "El array tiene un atributo .T, que devuelve la transposición de los datos.\n",
    "\n",
    "Matrix también tiene atributos .H, .I y .A, que devuelven la transposición conjugada, inversa y asarray () de la matriz, respectivamente.\n",
    "\n",
    "**Constructor de conveniencia**\n",
    "\n",
    "El constructor de arrays toma secuencias de Python (anidadas) como inicializadores. Como en, matriz ([[1,2,3], [4,5,6]]).\n",
    "\n",
    "El constructor de matrix también toma un inicializador de cadena conveniente. Como en la matriz (\"[1 2 3; 4 5 6]\")."
   ]
  },
  {
   "cell_type": "markdown",
   "id": "isolated-yahoo",
   "metadata": {},
   "source": [
    "## Pros y Contras de usar arrays o matrix\n",
    "### Array"
   ]
  },
  {
   "cell_type": "markdown",
   "id": "reduced-masters",
   "metadata": {},
   "source": [
    ":) La multiplicación por elementos es fácil: A * B.\n",
    "\n",
    ":( Debe recordar que la multiplicación de matrices tiene su propio operador, @.\n",
    "\n",
    ":) Puede tratar matrices unidimensionales como vectores de fila o columna. A @ v trata a v como un vector de columna, mientras que v @ A trata a v como un vector de fila. Esto puede ahorrarle tener que escribir muchas transposiciones.\n",
    "\n",
    ":) La matriz es el tipo NumPy \"predeterminado\", por lo que obtiene la mayor cantidad de pruebas y es el tipo con más probabilidades de ser devuelto por un código de terceros que usa NumPy.\n",
    "\n",
    ":) Se siente cómodo manejando datos de cualquier número de dimensiones.\n",
    "\n",
    ":) Más cerca en semántica del álgebra tensorial, si está familiarizado con eso.\n",
    "\n",
    ":) Todas las operaciones (*, /, +, - etc.) son por elementos.\n",
    "\n",
    ":( Las matrices dispersas de scipy.sparse no interactúan tan bien con las matrices."
   ]
  },
  {
   "cell_type": "markdown",
   "id": "responsible-calvin",
   "metadata": {},
   "source": [
    "### Matrix"
   ]
  },
  {
   "cell_type": "markdown",
   "id": "rental-wesley",
   "metadata": {},
   "source": [
    ": \\\\ El comportamiento es más parecido al de las matrices MATLAB.\n",
    "\n",
    "<:( Máximo de dos dimensiones. Para contener datos tridimensionales, necesita una matriz o quizás una lista de matriz de Python.\n",
    "\n",
    "<:( Mínimo de dos dimensiones. No puede tener vectores. Deben convertirse en matrices de una sola columna o de una sola fila.\n",
    "\n",
    "<:( Dado que la matriz es la predeterminada en NumPy, algunas funciones pueden devolver una matriz incluso si les da una matriz como argumento. Esto no debería suceder con las funciones de NumPy (si lo hace, es un error), pero se basa en código de terceros on NumPy puede no respetar la conservación de tipos como lo hace NumPy.\n",
    "\n",
    ":) A * B es una multiplicación de matrices, por lo que se ve como si lo escribiera en álgebra lineal (para Python> = 3.5, las matrices simples tienen la misma conveniencia con el operador @).\n",
    "\n",
    "<:( La multiplicación por elementos requiere llamar a una función, multiplicar (A, B).\n",
    "\n",
    "<:( El uso de la sobrecarga de operadores es un poco ilógico: * no funciona en términos de elementos, pero / lo hace.\n",
    "\n",
    "La interacción con scipy.sparse es un poco más limpia."
   ]
  },
  {
   "cell_type": "markdown",
   "id": "needed-orientation",
   "metadata": {},
   "source": [
    "## Conclusión"
   ]
  },
  {
   "cell_type": "markdown",
   "id": "driving-gilbert",
   "metadata": {},
   "source": [
    "Por lo tanto, el **array** es mucho más recomendable de usar. De hecho, tenemos la intención de desaprobar la **matrix** eventualmente."
   ]
  },
  {
   "cell_type": "markdown",
   "id": "funded-toddler",
   "metadata": {},
   "source": [
    "# Ejercicios notebook 8"
   ]
  },
  {
   "cell_type": "markdown",
   "id": "mediterranean-motion",
   "metadata": {},
   "source": [
    "<img src=\"https://rebornhugo.github.io/assets/images/post_images/%E5%BC%BA%E5%8C%96%E5%AD%A6%E4%B9%A02/bellman%20equation2.PNG\">\n",
    "\n",
    "* n = número de estados del sistema.\n",
    "* V(s) = vector que representa el valor esperado para cierto estado\n",
    "* R = recompensa inmediata percibida por el agente al salir de cierto estado.(vector)\n",
    "* P = matriz de transicion de la cadena de Markov sub-yacente.(matriz)\n",
    "* γ = factor de descuento de recompensas futuras(escalar)\n",
    "\n",
    "Calcular V(s) para el siguiente sistema aplicando la ecuación de bellman de manera vectorizada."
   ]
  },
  {
   "cell_type": "code",
   "execution_count": 6,
   "id": "wrapped-clock",
   "metadata": {},
   "outputs": [
    {
     "name": "stdout",
     "output_type": "stream",
     "text": [
      "[[10.495   2.2475  5.2475]\n",
      " [10.198   2.396   5.396 ]\n",
      " [10.792   2.099   5.099 ]]\n"
     ]
    }
   ],
   "source": [
    "V = np.array([0,0,0]) # valor inicial de V(s)\n",
    "R = np.array([10,2,5]) # vector de recompensas\n",
    "P = np.array([[0.5,0.25,0.25],\n",
    "              [0.2,0.40,0.40],\n",
    "              [0.80,0.10,0.10]])  # matriz de transición\n",
    "gamma = 0.99\n",
    "\n",
    "V = R + (P*gamma)\n",
    "print(V)"
   ]
  },
  {
   "cell_type": "markdown",
   "id": "junior-method",
   "metadata": {},
   "source": [
    "**Ejercicio aplicado en DS**\n",
    "Se tiene una red neuronal sencilla(y simplificada) como la de la siguiente imagen:\n",
    "<img src=\"https://www.oreilly.com/library/view/practical-convolutional-neural/9781788392303/assets/246151fb-7893-448d-b9bb-7a87b387a24b.png\">\n",
    "\n",
    "Donde:\n",
    "* INPUT LAYER: un vector X de tamaño = 2 que representa los datos de entrada\n",
    "* HIDDEN_LAYER :capa oculta con 2 neuronas definidas por los vectores:\n",
    "    * HL1 = [0.25,0.37]\n",
    "    * HL2 = [-8,14]\n",
    "* OUTPUT_LAYER = capa de salida definida por el vector [4,9]\n",
    "\n",
    "Crear una funcion neural_network(X) para calcular:\n",
    "* Calcule la salida de cada neurona en la capa intermedia aplicada a la capa de entrada.\n",
    "* Use el resultado del paso anterior como entrada para la neurona en la capa de salida\n",
    "\n",
    "Utilizando multiplicación de matrices se debe calcular para cada fila de la matriz de entrada X el valor de las neuronas de la capa intermedia, esto producirá una nueva matriz con el mismo número de filas que X y 2 columnas(1 para cada neurona) , a  los valores de esta matriz se les debe aplicar la función \"sigmoid\"(descrita a continuación) para limitarlos al intervalo de 0 a 1, esto produce una matriz del mismo tamaño pero con valores entre 0 a 1, esta matriz se multiplica matricialmente por la matriz que representa los pesos de la capa de salida  y este proceso produce un nuevo tensor al cual se debe aplicar nuevamente la función sigmoid. El resultado debe ser un tensor con el mismo número de filas que la matriz X y una sola columna(una predicción para cada fila de X.\n",
    "\n",
    "<img src=\"https://cdn-images-1.medium.com/max/1600/1*Xu7B5y9gp0iL5ooBj7LtWw.png\">"
   ]
  },
  {
   "cell_type": "code",
   "execution_count": 7,
   "id": "naked-survivor",
   "metadata": {},
   "outputs": [
    {
     "name": "stdout",
     "output_type": "stream",
     "text": [
      "X1: 0.999988416671698 X2: 0.9999955493876428 X3: 0.998498817743263 X4: 0.9999906359245414 X5: 0.8448022502952601\n"
     ]
    }
   ],
   "source": [
    "# Aplicar la red neuronal sobre los siguientes datos X\n",
    "\n",
    "X1 = np.array([0.50,0.72])\n",
    "X2 = np.array([-4,7])\n",
    "X3 = np.zeros_like(X2)\n",
    "X4 = np.ones_like(X1)\n",
    "X5 = np.random.randn(X1.shape[0])\n",
    "\n",
    "HL1 = np.array([0.25,0.37])\n",
    "HL2 = np.array([-8,14])\n",
    "OUTPUT_LAYER = np.array([4,9])\n",
    "\n",
    "def sigmoid(x): #convertir los valores de x al rango de 0 a 1\n",
    "    return 1/(1+np.exp(-x))\n",
    "\n",
    "def neural_network(X):\n",
    "    HL1_dot = np.matmul(X,HL1)\n",
    "    HL2_dot = np.matmul(X,HL2)\n",
    "    \n",
    "    #HIDDEN_LAYER\n",
    "    HL = np.array([HL1_dot,HL2_dot])\n",
    "    \n",
    "    HL = sigmoid(HL)\n",
    "    \n",
    "    T = np.matmul(HL, OUTPUT_LAYER)\n",
    "    \n",
    "    T = sigmoid(T)\n",
    "    #OUTPUT_LAYER\n",
    "    return T\n",
    "\n",
    "print(\"X1:\",neural_network(X1), \n",
    "      \"X2:\",neural_network(X2), \n",
    "      \"X3:\",neural_network(X3), \n",
    "      \"X4:\",neural_network(X4), \n",
    "      \"X5:\",neural_network(X5))"
   ]
  },
  {
   "cell_type": "markdown",
   "id": "studied-reservation",
   "metadata": {},
   "source": [
    "### Ejercicio \n",
    "\n",
    "Implementar en una funcion neural_network(X) la red neuronal definida por la siguiente arquitectura:\n",
    "\n",
    "<img src=\"http://i.imgur.com/UNlffE1.png\">\n",
    "\n",
    "Podemos validar si fue correctamente implementada si usamos como entrada el vector x=[1,1] . Debemos obtener el resultado mostrado en la imagen.\n",
    "\n",
    "Una vez tenemos la implementacion correcta, cambiar la funcion de activacion de la capa de salida por la funcion de activacion ReLu(https://en.wikipedia.org/wiki/Rectifier_(neural_networks)):\n",
    "\n",
    "<img src=\"https://cdn-images-1.medium.com/max/1600/1*DfMRHwxY1gyyDmrIAd-gjQ.png\">\n",
    "\n",
    "Luego evaluar la red neuronal sobre la matriz de datos X(de manera vectorizada):"
   ]
  },
  {
   "cell_type": "code",
   "execution_count": 8,
   "id": "british-connecticut",
   "metadata": {},
   "outputs": [
    {
     "name": "stdout",
     "output_type": "stream",
     "text": [
      "X: [0.69269553]\n"
     ]
    }
   ],
   "source": [
    "# Aplicar la red neuronal sobre los siguientes datos X\n",
    "# Usando la función de activación sigmoid\n",
    "HL = np.array([[0.712,0.355,0.268],\n",
    "              [0.112,0.855,0.468]])\n",
    "\n",
    "OL  = np.array([[0.116],\n",
    "                [0.329],\n",
    "                [0.708]])\n",
    "\n",
    "def sigmoid(x): #convertir los valores de x al rango de 0 a 1\n",
    "    return 1/(1+np.exp(-x))\n",
    "\n",
    "def neural_network_s(X):\n",
    "    HL_M = sigmoid(np.matmul(X,HL))\n",
    "    #print(HL_M)\n",
    "    #TARGET\n",
    "    TG = np.matmul(HL_M, OL)\n",
    "    #print(TG)\n",
    "    TG = sigmoid(TG)\n",
    "    return TG\n",
    "\n",
    "X1 = np.array([1,1])\n",
    "print(\"X:\",neural_network_s(X1))"
   ]
  },
  {
   "cell_type": "code",
   "execution_count": 9,
   "id": "computational-isolation",
   "metadata": {},
   "outputs": [
    {
     "name": "stdout",
     "output_type": "stream",
     "text": [
      "[[0.70244573]\n",
      " [0.66259284]\n",
      " [0.75933678]\n",
      " [0.75973948]\n",
      " [0.75802295]\n",
      " [0.6739704 ]\n",
      " [0.75954693]\n",
      " [0.76005845]\n",
      " [0.75952743]\n",
      " [0.76005845]]\n"
     ]
    }
   ],
   "source": [
    "X = np.array([\n",
    "    [0.1,2],\n",
    "    [0.3,0.45],\n",
    "    [5,9],\n",
    "    [12,6],\n",
    "    [7,5],\n",
    "    [0.3,0.8],\n",
    "    [12,5],\n",
    "    [100,200],\n",
    "    [7,8],\n",
    "    [300,1500]])\n",
    "print(neural_network_s(X))"
   ]
  },
  {
   "cell_type": "code",
   "execution_count": 10,
   "id": "informational-update",
   "metadata": {},
   "outputs": [
    {
     "name": "stdout",
     "output_type": "stream",
     "text": [
      "X: [1.014762]\n"
     ]
    }
   ],
   "source": [
    "# Aplicar la red neuronal sobre los siguientes datos X\n",
    "# Usando la función e activación ReLU\n",
    "HL = np.array([[0.712,0.355,0.268],\n",
    "              [0.112,0.855,0.468]])\n",
    "\n",
    "OL  = np.array([[0.116],\n",
    "                [0.329],\n",
    "                [0.708]])\n",
    "\n",
    "def reLU(x):\n",
    "    out = np.maximum(x, 0)\n",
    "    return out\n",
    "\n",
    "def neural_network_r(X):\n",
    "    HL_M = reLU(np.matmul(X,HL))\n",
    "    #print(HL_M)\n",
    "\n",
    "    #TARGET\n",
    "    TG = np.matmul(HL_M, OL)\n",
    "\n",
    "    TG = reLU(TG)\n",
    "    return TG\n",
    "\n",
    "X1 = np.array([1,1])\n",
    "print(\"X:\",neural_network_r(X1))"
   ]
  },
  {
   "cell_type": "code",
   "execution_count": 11,
   "id": "hired-geology",
   "metadata": {
    "scrolled": true
   },
   "outputs": [
    {
     "name": "stdout",
     "output_type": "stream",
     "text": [
      "[[1.2901751e+00]\n",
      " [3.9827325e-01]\n",
      " [7.5763340e+00]\n",
      " [8.4233580e+00]\n",
      " [5.8520720e+00]\n",
      " [6.1724410e-01]\n",
      " [7.7977270e+00]\n",
      " [1.6403930e+02]\n",
      " [7.7289650e+00]\n",
      " [1.0551858e+03]]\n"
     ]
    }
   ],
   "source": [
    "X = np.array([\n",
    "    [0.1,2],\n",
    "    [0.3,0.45],\n",
    "    [5,9],\n",
    "    [12,6],\n",
    "    [7,5],\n",
    "    [0.3,0.8],\n",
    "    [12,5],\n",
    "    [100,200],\n",
    "    [7,8],\n",
    "    [300,1500]])\n",
    "print(neural_network_r(X))"
   ]
  }
 ],
 "metadata": {
  "kernelspec": {
   "display_name": "Python 3",
   "language": "python",
   "name": "python3"
  },
  "language_info": {
   "codemirror_mode": {
    "name": "ipython",
    "version": 3
   },
   "file_extension": ".py",
   "mimetype": "text/x-python",
   "name": "python",
   "nbconvert_exporter": "python",
   "pygments_lexer": "ipython3",
   "version": "3.8.5"
  }
 },
 "nbformat": 4,
 "nbformat_minor": 5
}
