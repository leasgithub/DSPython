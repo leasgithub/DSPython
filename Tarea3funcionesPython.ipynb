{
 "cells": [
  {
   "cell_type": "markdown",
   "id": "loved-trick",
   "metadata": {},
   "source": [
    "# FUNCIONES CON PYTHON"
   ]
  },
  {
   "cell_type": "markdown",
   "id": "beginning-investing",
   "metadata": {},
   "source": [
    "## Introducción"
   ]
  },
  {
   "cell_type": "markdown",
   "id": "rough-slave",
   "metadata": {},
   "source": [
    "Para gestionar la información correctamente, es necesario organizar las herramientas utilizadas para realizar las tareas requeridas. Cada línea de código que crea realiza una tarea específica, y combina estas líneas de código para lograr el resultado deseado. A veces tu necesita repetir las instrucciones con diferentes datos y, en algunos casos, su código se vuelve tan largo que es difícil hacer un seguimiento de lo que hace cada parte. Funciones sirven como herramientas de organización que mantienen su código limpio y ordenado. Además, la función facilita la reutilización de las instrucciones que ha creado según sea necesario con datos diferentes. Esta sección del capítulo le informa todo sobre las funciones. Más importante, en esta sección comienza a crear sus primeras aplicaciones serias en de la misma forma que lo hacen los desarrolladores profesionales.\n",
    "\n",
    "Dentro de Python, como es en otros lenguajes de programación, cada línea de código realiza una acción específica según lo requerido, por lo que muchas veces los programas van creciendo en líneas por lo que necesitamos ir organizando el código que hace alguna tarea en específico. Además de lo anterior, nos encontramos con una parte de código que debe repetir alguna operación, pero con diferentes datos por lo que ahí en donde vemos la necesidad utilizar las Funciones. \n",
    "\n",
    "Las Funciones sirven como herramientas de organización que mantienen su código claro y ordenado, también permiten la reutilización del código haciendo los programas con menos líneas de código, y en Python no es la excepción de su uso, por lo que veremos los diferentes tipos funciones y algunos casos de uso."
   ]
  },
  {
   "cell_type": "markdown",
   "id": "threatened-anatomy",
   "metadata": {},
   "source": [
    "## Las funciones como paquetes\n",
    "\n",
    "Imaginemos abrir nuestro closet y encontrar un gran desorden de ropa, zapatos, trajes, comisas, calcetines, etc. Por lo que decidimos organizar por categoría todo el desorden que vemos, y metemos en cajas de diferentes tamaños clasificando cada una con lo que contendrá. \n",
    "\n",
    "Esta analogía es muy parecida a reorganizar código reutilizable dentro de funciones, esto nos dá mucho orden en la programación y da un mejor flujo que eficiente la ejecución del programa y sea menos complicado dar mantenimiento al realizar cambios a programas ya hechos por el mismo o diferente programador."
   ]
  },
  {
   "cell_type": "markdown",
   "id": "retired-dispute",
   "metadata": {},
   "source": [
    "## Líneas de código reutilizables\n",
    "\n",
    "Al igual que muchas de las cosas que usamos, hacemos o usamos cotidianamente, normalmente las reutilizamos y muchas veces eso nos alivia de la monotonía de repetir alguna acción diaria. Las funciones son código de programación que hace una tarea específica que se reutiliza una y otra vez durante la ejecución del programa pero que se escribió una sola vez. Una función depende de una parte importante la cuál le llamaremos la llamada, ya que ésta es la que invoca a la función y le transmite los datos que servirán para que ella se ejecute de manera correcta.\n",
    "\n",
    "Las funciones son parte importante y la reutilización de código nos permite:\n",
    "\n",
    "* Reducir el tiempo de desarrollo de los programas\n",
    "* Reducir los errores de programación\n",
    "* Aumente la confiabilidad de la aplicación\n",
    "* Permita que grupos enteros se beneficien del trabajo de un programador\n",
    "* Hace que el código sea más fácil de entender\n",
    "* Mejorar la eficiencia de la aplicación."
   ]
  },
  {
   "cell_type": "markdown",
   "id": "infinite-wright",
   "metadata": {},
   "source": [
    "## Definiendo Funciones en Python\n",
    "\n",
    "Definir una función en Python no es complicado, ya que Python trata de hacernos las cosas fáciles y rápido. Basta con hacer un par de pasos para escribir la función que posteriormente se utilizará:"
   ]
  },
  {
   "cell_type": "code",
   "execution_count": 1,
   "id": "approximate-summary",
   "metadata": {},
   "outputs": [],
   "source": [
    "# definir los paréntesis es importante, ya que es acá donde se lo podrán pasar parámetros que requiera la función. \n",
    "# En este ejemplo no hay parámetros requeridos\n",
    "def hola():\n",
    "    print(\"Mi primer función en Python\")"
   ]
  },
  {
   "cell_type": "markdown",
   "id": "processed-bearing",
   "metadata": {},
   "source": [
    "**Notas:**\n",
    "* La palabra *def* es una palabra reservada.\n",
    "* La guía de estilo de Python recomienda escribir todos los caracteres en minúsculas separando las palabras por guiones bajos el nombre de la funciones\n",
    "* Las instrucciones que forman la función se escriben con sangría con respecto a la primera línea."
   ]
  },
  {
   "cell_type": "markdown",
   "id": "egyptian-right",
   "metadata": {},
   "source": [
    "### Accediendo a la función\n",
    "\n",
    "Después de definir la función pues se requerirá utilzarla, por lo que la manera de utilizarla será solo escribir el nombre de la función."
   ]
  },
  {
   "cell_type": "code",
   "execution_count": 2,
   "id": "specialized-model",
   "metadata": {},
   "outputs": [
    {
     "name": "stdout",
     "output_type": "stream",
     "text": [
      "Mi primer función en Python\n"
     ]
    }
   ],
   "source": [
    "hola()"
   ]
  },
  {
   "cell_type": "markdown",
   "id": "industrial-identifier",
   "metadata": {},
   "source": [
    "## Envío de información a las Funciones (Argumentos)\n",
    "\n",
    "Como se mencionó anteriormente, uno de los objetivos de las funciones es permitirnos realizar más de una operación ya que no evitara estar repitiendo código para realizar las mismas operaciones pero con diferente información. El uso de argumentos en las funciones nos ayuda a crear funciones reutilizables y flexibles utilizando gran cantidad y variadad de datos.\n",
    "\n",
    "### Los Argumentos\n",
    "\n",
    "Se le da el nombre de argumento al dato o información que se le envía a una función para que sea procesada y regrese transformada a donde se hizo la llamada, la veces que sea necesario durante la ejecución del programa.\n"
   ]
  },
  {
   "cell_type": "markdown",
   "id": "korean-violation",
   "metadata": {},
   "source": [
    "## Las Variables en las Funciones\n",
    "\n",
    "En el uso de la funciones hya que tener cuidad en la declaración de variables con el mismo nombre en el programa o dentro de una función ya que puede causar conflictos entre esos nombres, o también en el contenido de estas.\n",
    "\n",
    "Este conflicto lo maneja Python distinguiendo 3 tipos de variables, las variables *locales* y dos tipos de variables *globales y no locales*.\n",
    "\n",
    "* Variables Locales: las que pertenecen al ámbito de la subrutina y que pueden ser accesibles en los niveles inferiores a la subrutina donde se declararon.\n",
    "* Variables Globales: las que pertenecen al ámbito del programa principal\n",
    "* Variables No Locales: las que pertenecen a un ámbito superior al de la subrutina, pero no llegan a ser globales.\n",
    "\n",
    "Si el programa contiene solamente funciones que no contienen a su vez funciones, todas las variables libres son variables globales. Pero si el programa contiene una función que a su vez contiene una función, las variables libres de esas \"subfunciones\" pueden ser globales (si pertenecen al programa principal) o no locales (si pertenecen a la función).\n",
    "\n",
    "Para identificar explícitamente las variables globales y no locales se utilizan las palabras reservadas global y nonlocal. Las variables locales no necesitan identificación.\n",
    "\n",
    "### Variables Locales\n",
    "\n",
    "Si no son definidas como globales o no locales, y se declaran solo dentro de la función donde se utilizarán, y solo existen en esta función, se les llama locales.\n"
   ]
  },
  {
   "cell_type": "code",
   "execution_count": 3,
   "id": "sharing-democrat",
   "metadata": {},
   "outputs": [],
   "source": [
    "def varlocal():\n",
    "    a=50\n",
    "    print(a)\n",
    "    return"
   ]
  },
  {
   "cell_type": "code",
   "execution_count": 4,
   "id": "monetary-balance",
   "metadata": {},
   "outputs": [
    {
     "name": "stdout",
     "output_type": "stream",
     "text": [
      "50\n",
      "25\n"
     ]
    }
   ],
   "source": [
    "a = 25\n",
    "varlocal()\n",
    "print(a)"
   ]
  },
  {
   "cell_type": "markdown",
   "id": "musical-retro",
   "metadata": {},
   "source": [
    "***Nota:*** Las variables locales sólo existen en la propia función y no son accesibles desde niveles superiores."
   ]
  },
  {
   "cell_type": "markdown",
   "id": "covered-electronics",
   "metadata": {},
   "source": [
    "### Variables Libres Globales o No Locales\n",
    "\n",
    "Si a una variable no se le asigna valor en una función, Python la considera *global* y busca su valor en los niveles superiores de esa función, empezando por el inmediatamente superior y continuando hasta el programa principal. Si a la variable se le asigna valor en algún nivel intermedio la variable se considera *no local* y si se le asigna en el programa principal la variable se considera global."
   ]
  },
  {
   "cell_type": "code",
   "execution_count": 5,
   "id": "royal-mongolia",
   "metadata": {},
   "outputs": [],
   "source": [
    "def varglobal():\n",
    "    print(a)\n",
    "    return"
   ]
  },
  {
   "cell_type": "code",
   "execution_count": 6,
   "id": "dying-discount",
   "metadata": {},
   "outputs": [
    {
     "name": "stdout",
     "output_type": "stream",
     "text": [
      "100\n",
      "100\n"
     ]
    }
   ],
   "source": [
    "a=100\n",
    "varglobal()\n",
    "print(a)"
   ]
  },
  {
   "cell_type": "markdown",
   "id": "indonesian-scientist",
   "metadata": {},
   "source": [
    "Ejemplo con variable No Local:"
   ]
  },
  {
   "cell_type": "code",
   "execution_count": 7,
   "id": "thrown-express",
   "metadata": {},
   "outputs": [],
   "source": [
    "def varnolocal():\n",
    "    def sub_varnolocal():\n",
    "        print(a)\n",
    "        return\n",
    "    \n",
    "    a=50\n",
    "    sub_varnolocal()\n",
    "    print(a)\n",
    "    return"
   ]
  },
  {
   "cell_type": "code",
   "execution_count": 8,
   "id": "efficient-cattle",
   "metadata": {},
   "outputs": [
    {
     "name": "stdout",
     "output_type": "stream",
     "text": [
      "50\n",
      "50\n",
      "100\n"
     ]
    }
   ],
   "source": [
    "a=100\n",
    "varnolocal()\n",
    "print(a)"
   ]
  },
  {
   "cell_type": "markdown",
   "id": "intelligent-manual",
   "metadata": {},
   "source": [
    "### Variables Globales o No locales\n",
    "\n",
    "Si queremos asignar valor a una variable en una subrutina, pero no queremos que Python la considere local, debemos declararla en la función como global o nonlocal."
   ]
  },
  {
   "cell_type": "code",
   "execution_count": 19,
   "id": "buried-fishing",
   "metadata": {},
   "outputs": [],
   "source": [
    "def varglobal():\n",
    "    global a\n",
    "    print(\"dentro de la función:\",a)\n",
    "    a=100\n",
    "    return"
   ]
  },
  {
   "cell_type": "code",
   "execution_count": 21,
   "id": "educational-anniversary",
   "metadata": {},
   "outputs": [
    {
     "name": "stdout",
     "output_type": "stream",
     "text": [
      "dentro de la función: 50\n",
      "fuera de la función 100\n"
     ]
    }
   ],
   "source": [
    "a=50\n",
    "varglobal()\n",
    "print(\"fuera de la función\",a)"
   ]
  },
  {
   "cell_type": "markdown",
   "id": "necessary-toner",
   "metadata": {},
   "source": [
    "## Argumentos opcionales en una función\n",
    "\n",
    "Así como en otros lenguajes, en Python se puende crear argumentos o parámetros en un función que podran ser opcionales al momento de llamar la función, pero estos deberán tener un valor por default que será asignado si dicho parámetro no es enviado al momento de la llamada a la subrutina."
   ]
  },
  {
   "cell_type": "code",
   "execution_count": 22,
   "id": "actual-chancellor",
   "metadata": {},
   "outputs": [],
   "source": [
    "def printsaludos(nombre, mensaje=\"Bienvenido\"):\n",
    "    print(\"Hola \",nombre,mensaje)"
   ]
  },
  {
   "cell_type": "code",
   "execution_count": 24,
   "id": "inner-reunion",
   "metadata": {},
   "outputs": [
    {
     "ename": "TypeError",
     "evalue": "printsaludos() missing 1 required positional argument: 'nombre'",
     "output_type": "error",
     "traceback": [
      "\u001b[1;31m---------------------------------------------------------------------------\u001b[0m",
      "\u001b[1;31mTypeError\u001b[0m                                 Traceback (most recent call last)",
      "\u001b[1;32m<ipython-input-24-48bf69428081>\u001b[0m in \u001b[0;36m<module>\u001b[1;34m\u001b[0m\n\u001b[1;32m----> 1\u001b[1;33m \u001b[0mprintsaludos\u001b[0m\u001b[1;33m(\u001b[0m\u001b[1;33m)\u001b[0m \u001b[1;31m# si se ejecuta la función sin (el)(los) parámetros oblogatorios que requiere, dará error\u001b[0m\u001b[1;33m\u001b[0m\u001b[1;33m\u001b[0m\u001b[0m\n\u001b[0m",
      "\u001b[1;31mTypeError\u001b[0m: printsaludos() missing 1 required positional argument: 'nombre'"
     ]
    }
   ],
   "source": [
    "printsaludos() # si se ejecuta la función sin (el)(los) parámetros oblogatorios que requiere, dará error"
   ]
  },
  {
   "cell_type": "code",
   "execution_count": 25,
   "id": "executive-bonus",
   "metadata": {},
   "outputs": [
    {
     "name": "stdout",
     "output_type": "stream",
     "text": [
      "Hola  Edmundo Bienvenido\n"
     ]
    }
   ],
   "source": [
    "printsaludos(\"Edmundo\")"
   ]
  },
  {
   "cell_type": "code",
   "execution_count": 26,
   "id": "recorded-rabbit",
   "metadata": {},
   "outputs": [
    {
     "name": "stdout",
     "output_type": "stream",
     "text": [
      "Hola  Edmundo Adios\n"
     ]
    }
   ],
   "source": [
    "printsaludos(\"Edmundo\",\"Adios\") # al enviar el valor del parámetro opcional, lo sustituye por el valor enviado en la llamada"
   ]
  },
  {
   "cell_type": "markdown",
   "id": "alpine-essex",
   "metadata": {},
   "source": [
    "## Argumentos posicionales y nombrados\n",
    "\n",
    "### Posicionales\n",
    "\n",
    "Normalmente el órden en el cual se definen los argumentos en las funciones, es el mismo órden en que se debe enviar los parámetros al momento de invocar dichas funciones. Esto es útil cuando los argumentos si necesitamos que tenga un órden específico para que la funcionalidad de la subrutina no devuelva error o valores incorrectos."
   ]
  },
  {
   "cell_type": "code",
   "execution_count": 7,
   "id": "frequent-season",
   "metadata": {},
   "outputs": [],
   "source": [
    "def potencia(x,y,/):\n",
    "    return x**y"
   ]
  },
  {
   "cell_type": "markdown",
   "id": "fewer-approach",
   "metadata": {},
   "source": [
    "El operador */* indica que los argumentos que están antes de este son posicionales, por lo que siempre deben de ser enviados en ese órden. \n",
    "\n",
    "En el ejemplo anterior requerimos que el valor del parámetro ***y*** siempre sea considerado como la potencia y el parámetro ***x*** sea la base, por lo que si cambia ese órden Python nos daría un error de sintaxis."
   ]
  },
  {
   "cell_type": "code",
   "execution_count": 10,
   "id": "substantial-decision",
   "metadata": {},
   "outputs": [
    {
     "ename": "TypeError",
     "evalue": "potencia() got some positional-only arguments passed as keyword arguments: 'x, y'",
     "output_type": "error",
     "traceback": [
      "\u001b[1;31m---------------------------------------------------------------------------\u001b[0m",
      "\u001b[1;31mTypeError\u001b[0m                                 Traceback (most recent call last)",
      "\u001b[1;32m<ipython-input-10-12390fcde1e4>\u001b[0m in \u001b[0;36m<module>\u001b[1;34m\u001b[0m\n\u001b[1;32m----> 1\u001b[1;33m \u001b[0mp\u001b[0m\u001b[1;33m=\u001b[0m\u001b[0mpotencia\u001b[0m\u001b[1;33m(\u001b[0m\u001b[0my\u001b[0m\u001b[1;33m=\u001b[0m\u001b[1;36m10\u001b[0m\u001b[1;33m,\u001b[0m\u001b[0mx\u001b[0m\u001b[1;33m=\u001b[0m\u001b[1;36m5\u001b[0m\u001b[1;33m)\u001b[0m\u001b[1;33m\u001b[0m\u001b[1;33m\u001b[0m\u001b[0m\n\u001b[0m\u001b[0;32m      2\u001b[0m \u001b[0mprint\u001b[0m\u001b[1;33m(\u001b[0m\u001b[0mp\u001b[0m\u001b[1;33m)\u001b[0m\u001b[1;33m\u001b[0m\u001b[1;33m\u001b[0m\u001b[0m\n",
      "\u001b[1;31mTypeError\u001b[0m: potencia() got some positional-only arguments passed as keyword arguments: 'x, y'"
     ]
    }
   ],
   "source": [
    "p=potencia(y=10,x=5)\n",
    "print(p)"
   ]
  },
  {
   "cell_type": "markdown",
   "id": "sharp-hearts",
   "metadata": {},
   "source": [
    "O si se envían parametros nombrados también daría el mismo error."
   ]
  },
  {
   "cell_type": "code",
   "execution_count": 14,
   "id": "narrative-packet",
   "metadata": {},
   "outputs": [
    {
     "ename": "TypeError",
     "evalue": "potencia() got some positional-only arguments passed as keyword arguments: 'x, y'",
     "output_type": "error",
     "traceback": [
      "\u001b[1;31m---------------------------------------------------------------------------\u001b[0m",
      "\u001b[1;31mTypeError\u001b[0m                                 Traceback (most recent call last)",
      "\u001b[1;32m<ipython-input-14-449a7e42b32a>\u001b[0m in \u001b[0;36m<module>\u001b[1;34m\u001b[0m\n\u001b[1;32m----> 1\u001b[1;33m \u001b[0mp\u001b[0m\u001b[1;33m=\u001b[0m\u001b[0mpotencia\u001b[0m\u001b[1;33m(\u001b[0m\u001b[0mx\u001b[0m\u001b[1;33m=\u001b[0m\u001b[1;36m5\u001b[0m\u001b[1;33m,\u001b[0m\u001b[0my\u001b[0m\u001b[1;33m=\u001b[0m\u001b[1;36m10\u001b[0m\u001b[1;33m)\u001b[0m\u001b[1;33m\u001b[0m\u001b[1;33m\u001b[0m\u001b[0m\n\u001b[0m\u001b[0;32m      2\u001b[0m \u001b[0mprint\u001b[0m\u001b[1;33m(\u001b[0m\u001b[0mp\u001b[0m\u001b[1;33m)\u001b[0m\u001b[1;33m\u001b[0m\u001b[1;33m\u001b[0m\u001b[0m\n",
      "\u001b[1;31mTypeError\u001b[0m: potencia() got some positional-only arguments passed as keyword arguments: 'x, y'"
     ]
    }
   ],
   "source": [
    "p=potencia(x=5,y=10)\n",
    "print(p)"
   ]
  },
  {
   "cell_type": "code",
   "execution_count": 11,
   "id": "lesser-citizenship",
   "metadata": {},
   "outputs": [
    {
     "name": "stdout",
     "output_type": "stream",
     "text": [
      "9765625\n"
     ]
    }
   ],
   "source": [
    "p=potencia(5,10)\n",
    "print(p)"
   ]
  },
  {
   "cell_type": "markdown",
   "id": "blind-forth",
   "metadata": {},
   "source": [
    "### Nombrados\n",
    "\n",
    "En Python los argumentos pueden variar el órden si se envía el valor argumento junto con el nombre del parámetro, siempre y cuando *estos parámetros no sean posicionales* porque sino dará error."
   ]
  },
  {
   "cell_type": "code",
   "execution_count": 15,
   "id": "statistical-basic",
   "metadata": {},
   "outputs": [],
   "source": [
    "def printsaludos(nombre,mensaje):\n",
    "    print(\"Hola \",nombre,mensaje)"
   ]
  },
  {
   "cell_type": "code",
   "execution_count": 17,
   "id": "latter-mortality",
   "metadata": {},
   "outputs": [
    {
     "name": "stdout",
     "output_type": "stream",
     "text": [
      "Hola  Edmundo Bienvenido al mundo de Python\n"
     ]
    }
   ],
   "source": [
    "printsaludos(mensaje=\"Bienvenido al mundo de Python\", nombre=\"Edmundo\") # nombrando ambos parámetros"
   ]
  },
  {
   "cell_type": "code",
   "execution_count": 19,
   "id": "equal-heating",
   "metadata": {},
   "outputs": [
    {
     "ename": "SyntaxError",
     "evalue": "positional argument follows keyword argument (<ipython-input-19-3ca7e2e064be>, line 2)",
     "output_type": "error",
     "traceback": [
      "\u001b[1;36m  File \u001b[1;32m\"<ipython-input-19-3ca7e2e064be>\"\u001b[1;36m, line \u001b[1;32m2\u001b[0m\n\u001b[1;33m    printsaludos(mensaje=\"esta es otra prueba de parámetros nombrados\",\"Luis\")\u001b[0m\n\u001b[1;37m                                                                        ^\u001b[0m\n\u001b[1;31mSyntaxError\u001b[0m\u001b[1;31m:\u001b[0m positional argument follows keyword argument\n"
     ]
    }
   ],
   "source": [
    "# se puede obviar el nombre de un parámetro, pero para que funciones, se debe enviar en el órden correcto\n",
    "printsaludos(mensaje=\"esta es otra prueba de parámetros nombrados\",\"Luis\") "
   ]
  },
  {
   "cell_type": "code",
   "execution_count": 20,
   "id": "exotic-asian",
   "metadata": {},
   "outputs": [
    {
     "name": "stdout",
     "output_type": "stream",
     "text": [
      "Hola  Luis esta es otra prueba de parámetros nombrados\n"
     ]
    }
   ],
   "source": [
    "printsaludos(\"Luis\",mensaje=\"esta es otra prueba de parámetros nombrados\") "
   ]
  },
  {
   "cell_type": "markdown",
   "id": "acoustic-workplace",
   "metadata": {},
   "source": [
    "## Argumentos indeterminados\n",
    "\n",
    "Una función en Python puede recibir una cantidad indeterminada de argumentos, por lo que se debe utilizar la expresión **args* al definir la función. En este ejemplo podemos ver su uso:"
   ]
  },
  {
   "cell_type": "code",
   "execution_count": 25,
   "id": "spiritual-matrix",
   "metadata": {},
   "outputs": [],
   "source": [
    "def sumar(*args):\n",
    "    total=0\n",
    "    for valor in args:\n",
    "        total = total + valor\n",
    "    return total"
   ]
  },
  {
   "cell_type": "code",
   "execution_count": 26,
   "id": "south-grant",
   "metadata": {},
   "outputs": [
    {
     "name": "stdout",
     "output_type": "stream",
     "text": [
      "38\n"
     ]
    }
   ],
   "source": [
    "total=sumar(10,4,2,6,15,1)\n",
    "print(total)"
   ]
  },
  {
   "cell_type": "markdown",
   "id": "identified-branch",
   "metadata": {},
   "source": [
    "## Retorno de múltiples valores en una Función\n",
    "\n",
    "A diferencia de muchos lenguajes de programación, Python si permite que una función pueda devolver o retornar varios resultados. \n",
    "\n",
    "Definamos la siguiente función que nos devolverá el cociente y el residuo de la división de 2 enteros:"
   ]
  },
  {
   "cell_type": "code",
   "execution_count": 27,
   "id": "headed-germany",
   "metadata": {},
   "outputs": [],
   "source": [
    "def division(dividendo, divisor,/):\n",
    "    cociente = dividendo//divisor\n",
    "    residuo = dividendo%divisor\n",
    "    \n",
    "    return cociente, residuo"
   ]
  },
  {
   "cell_type": "code",
   "execution_count": 29,
   "id": "excited-madness",
   "metadata": {},
   "outputs": [
    {
     "name": "stdout",
     "output_type": "stream",
     "text": [
      "7 1\n"
     ]
    }
   ],
   "source": [
    "r1,r2 = division(15,2)\n",
    "print(r1,r2)"
   ]
  },
  {
   "cell_type": "markdown",
   "id": "civilian-agriculture",
   "metadata": {},
   "source": [
    "¿Cómo logra hacer esto? pues con el uso de *listas*. Una función, propiamente hablando, sólo puede devolver un objeto, pero ese objeto puede estar compuesto de otros objetos más simples. Las listas o tupas son ejemplos de estos objetos compuestos.\n",
    "\n",
    "Por ejemplo, si se ejecuta la función sin asignarla a variables, el resultado de la función desplegará una lista, según lo que se vé en la siguiente línea de código:"
   ]
  },
  {
   "cell_type": "code",
   "execution_count": 30,
   "id": "whole-plain",
   "metadata": {},
   "outputs": [
    {
     "data": {
      "text/plain": [
       "(7, 1)"
      ]
     },
     "execution_count": 30,
     "metadata": {},
     "output_type": "execute_result"
    }
   ],
   "source": [
    "division(15,2)"
   ]
  },
  {
   "cell_type": "markdown",
   "id": "decimal-condition",
   "metadata": {},
   "source": [
    "Este tipo operaciones que nos brinda Python nos abre una ventana grande para desarrollar programas más versátiles."
   ]
  },
  {
   "cell_type": "markdown",
   "id": "discrete-mineral",
   "metadata": {},
   "source": [
    "## Funciones como parámetro de otra funciones\n",
    "\n",
    "Como todos los datos en Python están representados por objetos o relaciones entre objetos, no hay nada particularmente especial en relación a las funciones, ya que son objetos de primera clase y pueden ser asignadas a otra variable, almacenarlas en un contenedor (lista, diccionario, etc), o pasarlas como argumento, como cualquier otro objeto."
   ]
  },
  {
   "cell_type": "code",
   "execution_count": 32,
   "id": "neither-standing",
   "metadata": {},
   "outputs": [],
   "source": [
    "def cuadrado(x):\n",
    "    return x ** 2\n",
    "\n",
    "def raiz_cuadrada(x):\n",
    "    return x ** 0.5\n",
    "\n",
    "# La función calcular recibirá como parámetro otro función y argumentos indeterminados para dar un resultado\n",
    "def calcular(func, *args):\n",
    "    for n in args:\n",
    "        print(func(n))"
   ]
  },
  {
   "cell_type": "code",
   "execution_count": 33,
   "id": "imperial-place",
   "metadata": {},
   "outputs": [
    {
     "name": "stdout",
     "output_type": "stream",
     "text": [
      "16\n",
      "25\n",
      "36\n"
     ]
    }
   ],
   "source": [
    "calcular(cuadrado,4,5,6)"
   ]
  },
  {
   "cell_type": "code",
   "execution_count": 34,
   "id": "sweet-retirement",
   "metadata": {},
   "outputs": [
    {
     "name": "stdout",
     "output_type": "stream",
     "text": [
      "8.0\n",
      "7.0\n",
      "9.433981132056603\n"
     ]
    }
   ],
   "source": [
    "calcular(raiz_cuadrada,64,49,89)"
   ]
  },
  {
   "cell_type": "markdown",
   "id": "imported-flower",
   "metadata": {},
   "source": [
    "## Funciones Anónimas o lambda\n",
    "\n",
    "Como su nombre lo indica, estas funciones no tienen un nombre específico por lo que no crean utilizando la palabra reservada *def*. A pesar de lo anterior son muy similares a las anteriores que hemos visto pero con una gran diferencia, **el contenido de una función anónima deber ser una única expresión en lugar de un bloque de instrucciones**, por lo que están pensadas para poder realizar funciones simples.\n",
    "\n",
    "Supongamos que tenemos la siguiente función que definimos con nombre utilizando *def*."
   ]
  },
  {
   "cell_type": "code",
   "execution_count": 35,
   "id": "timely-albuquerque",
   "metadata": {},
   "outputs": [],
   "source": [
    "def duplicar(numero):\n",
    "    resultado = numero * 2\n",
    "    return resultado"
   ]
  },
  {
   "cell_type": "code",
   "execution_count": 36,
   "id": "honey-fifty",
   "metadata": {},
   "outputs": [
    {
     "name": "stdout",
     "output_type": "stream",
     "text": [
      "500\n"
     ]
    }
   ],
   "source": [
    "valor=duplicar(250)\n",
    "print(valor)"
   ]
  },
  {
   "cell_type": "markdown",
   "id": "noticed-publisher",
   "metadata": {},
   "source": [
    "Si consultamos el tipo de objeto sabremos que es una función:"
   ]
  },
  {
   "cell_type": "code",
   "execution_count": 37,
   "id": "dated-noise",
   "metadata": {},
   "outputs": [
    {
     "data": {
      "text/plain": [
       "function"
      ]
     },
     "execution_count": 37,
     "metadata": {},
     "output_type": "execute_result"
    }
   ],
   "source": [
    "type(duplicar)"
   ]
  },
  {
   "cell_type": "markdown",
   "id": "unable-portal",
   "metadata": {},
   "source": [
    "Simplificando la función anterior podría quedar así:"
   ]
  },
  {
   "cell_type": "code",
   "execution_count": 38,
   "id": "ethical-hazard",
   "metadata": {},
   "outputs": [],
   "source": [
    "def duplicar(numero):\n",
    "    return numero*2"
   ]
  },
  {
   "cell_type": "code",
   "execution_count": 39,
   "id": "processed-edgar",
   "metadata": {},
   "outputs": [
    {
     "data": {
      "text/plain": [
       "500"
      ]
     },
     "execution_count": 39,
     "metadata": {},
     "output_type": "execute_result"
    }
   ],
   "source": [
    "duplicar(250)"
   ]
  },
  {
   "cell_type": "code",
   "execution_count": 40,
   "id": "certain-smile",
   "metadata": {},
   "outputs": [
    {
     "data": {
      "text/plain": [
       "function"
      ]
     },
     "execution_count": 40,
     "metadata": {},
     "output_type": "execute_result"
    }
   ],
   "source": [
    "type(duplicar) # sigue siendo función"
   ]
  },
  {
   "cell_type": "markdown",
   "id": "harmful-partnership",
   "metadata": {},
   "source": [
    "Utilicemos la notación *lambda* para convertir la anterior función en una función anónima, dado su simplicidad:"
   ]
  },
  {
   "cell_type": "code",
   "execution_count": 41,
   "id": "coated-demographic",
   "metadata": {},
   "outputs": [
    {
     "data": {
      "text/plain": [
       "<function __main__.<lambda>(numero)>"
      ]
     },
     "execution_count": 41,
     "metadata": {},
     "output_type": "execute_result"
    }
   ],
   "source": [
    "lambda numero:numero*2"
   ]
  },
  {
   "cell_type": "markdown",
   "id": "broke-pizza",
   "metadata": {},
   "source": [
    "Lo que se necesita es guardarl aen una variable para que sea una función normal, por lo que duplicar podría quedar asi:"
   ]
  },
  {
   "cell_type": "code",
   "execution_count": 42,
   "id": "unknown-lounge",
   "metadata": {},
   "outputs": [
    {
     "data": {
      "text/plain": [
       "500"
      ]
     },
     "execution_count": 42,
     "metadata": {},
     "output_type": "execute_result"
    }
   ],
   "source": [
    "duplicar=lambda numero:numero*2\n",
    "duplicar(250)"
   ]
  },
  {
   "cell_type": "code",
   "execution_count": 43,
   "id": "widespread-chemical",
   "metadata": {},
   "outputs": [
    {
     "data": {
      "text/plain": [
       "function"
      ]
     },
     "execution_count": 43,
     "metadata": {},
     "output_type": "execute_result"
    }
   ],
   "source": [
    "type(duplicar)"
   ]
  }
 ],
 "metadata": {
  "kernelspec": {
   "display_name": "Python 3",
   "language": "python",
   "name": "python3"
  },
  "language_info": {
   "codemirror_mode": {
    "name": "ipython",
    "version": 3
   },
   "file_extension": ".py",
   "mimetype": "text/x-python",
   "name": "python",
   "nbconvert_exporter": "python",
   "pygments_lexer": "ipython3",
   "version": "3.8.5"
  }
 },
 "nbformat": 4,
 "nbformat_minor": 5
}
