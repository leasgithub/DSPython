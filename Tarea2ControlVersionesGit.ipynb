{
 "cells": [
  {
   "cell_type": "markdown",
   "id": "naval-unknown",
   "metadata": {},
   "source": [
    "# Sistema Control de Versiones Git"
   ]
  },
  {
   "cell_type": "markdown",
   "id": "flying-apollo",
   "metadata": {},
   "source": [
    "Estudiante: Luis Edmundo Alvarez Soto\n",
    "Carné: 21001844"
   ]
  },
  {
   "cell_type": "markdown",
   "id": "successful-nicaragua",
   "metadata": {},
   "source": [
    "## Introducción"
   ]
  },
  {
   "cell_type": "markdown",
   "id": "loaded-blocking",
   "metadata": {},
   "source": [
    "Los sistemas de control de versiones son sistemas que llevan un rastreo histórico de los cambios de el código fuente de los programas u otro tipo de archivos o carpetas que sean registrados para ser versionados.\n",
    "Otra utilidad que tienen estos sistemas, es la poder ser colaborativo, es decir, que un grupo de programadores por ejemplo, puedan trabajar en paralelo sobre los mismos objetos en las diferentes o mismas versiones de estos por separado para luego ser\n",
    "combinado y probado, o en la resolución de conflictos, lo cual es de gran ayuda en los proyectos de desarrollo de software especialmente en la reducción de tiempos de desarrollo. \n",
    "Lo anterior se logra por tener encapsulado todos los snapshots de archivos, directorios subdirectorios, etc. de todo el proyecto.\n",
    "\n",
    "Otra característica importante de estos sistemas, es la metadata que registran sobre los todos los cambios realizados sobre un archivo específico, quién hizo ese cambio, cuál fue el cambio, la fecha y hora del cambio, y otros mensajes extras que pueden ser agregados por el usuario.\n"
   ]
  },
  {
   "cell_type": "markdown",
   "id": "innocent-cleaners",
   "metadata": {},
   "source": [
    "## Uso de los Sistemas de Control de Versiones"
   ]
  },
  {
   "cell_type": "markdown",
   "id": "nervous-grant",
   "metadata": {},
   "source": [
    "Estos sistemas son muy utilizados para comparar o ver versiones anteriores de código de los programas, para investigar los cambios realizados al código buscando en la metadata la justificación de dicho cambio, trabajar en paralelo (diferentes personas trabajando en la misma parte del código, etc., es una herramienta muy util aunque uno esté desarrollando solo un proyecto.\n",
    "\n",
    "Una característica más de estos sistemas, es la capacidad que tienen de encontrar en qué momento dejó de funcionar cierto proceso y qué cambio en el código lo hizo fallar.\n",
    "\n",
    "Lo anterior es de mucha ayuda, simpre y cuando se sepa utilizar todas estas características que nos ofrecen este tipo de herramientas."
   ]
  },
  {
   "cell_type": "markdown",
   "id": "urban-failure",
   "metadata": {},
   "source": [
    "## Sistema de Control de Versiones Git"
   ]
  },
  {
   "cell_type": "markdown",
   "id": "corresponding-harmony",
   "metadata": {},
   "source": [
    "Git es un sistema de control de versiones, que por sus características, se ido convirtiendo en un standard en el mercado, por lo que este documento, se tratarán sus funciones."
   ]
  },
  {
   "cell_type": "markdown",
   "id": "inside-organization",
   "metadata": {},
   "source": [
    "La interface de Git no es muy amigable, por lo que sugiere aprenderse los comandos que se utilizan en el prompt, y para apoyar el\n",
    "uso, también es importante entender el modelo de datos, la cual no es complicada, del sistema y así será más fácil entender cómo funciona."
   ]
  },
  {
   "cell_type": "markdown",
   "id": "radio-walter",
   "metadata": {},
   "source": [
    "### El modelo de Datos de Git\n",
    "Un ejemplo básico de como el modelo de Git maneja los diferentes objetos dentro de un directorio que tiene un control de versiones. Este es el directorio donde se lleva un control de versiones.\n",
    "\n",
    "C:\\Users\\luise\\Documents\\GalileoIIO\\1erTrimestre. Como es directorio inicial, este es una carpeta \"root\" a versionar dentro de Git. Como es una carpeta que podrá contendrá otras carpetas y/o archivos, dentro del modelo de Git es considerado un \"tree\"\n",
    "\n",
    "Además entro de esta carpeta, existe otra carpeta llamada DataScienceConPhyton, que también se considera como un \"tree\". Dentro de esta carpeta existe un archivo Apuntes.txt conteniendo links de sitios de interés pendientes de revisar, el cual dentro del modelo es llamado \"blob\". Un blob no puede contener carpetas o trees.\n"
   ]
  },
  {
   "cell_type": "markdown",
   "id": "toxic-century",
   "metadata": {},
   "source": [
    "La historia de un folder normalmente se vería como una secuencia de snapshots de toda la carpeta desde la raíz en el tiempo y un snapshot precediendo al siguiente. Pero el modelo de Git no solo lleva así la historia, sino que se pueden crear un snapshots desde un punto y trabajarlo simultaneamente por 2 o más personas diferentes, trabajando aspectos diferentes o arreglando errores y luego mezclarlos en un nuevo snapshot. Git maneja el concepto llamado \"merge conflict\", el cual contrala que el código de un snapshot pueda causar error en el otro al momento de mezclarlos. (ver siguiente imagen)"
   ]
  },
  {
   "cell_type": "markdown",
   "id": "straight-preservation",
   "metadata": {},
   "source": [
    "![title](DiagramaSnapshot1.jpg)"
   ]
  },
  {
   "cell_type": "markdown",
   "id": "median-proceeding",
   "metadata": {},
   "source": [
    "## Escribir un pseudocódigo de las estructuras del modelo de Git"
   ]
  },
  {
   "cell_type": "code",
   "execution_count": 3,
   "id": "toxic-ticket",
   "metadata": {},
   "outputs": [
    {
     "data": {
      "text/plain": [
       "[]"
      ]
     },
     "execution_count": 3,
     "metadata": {},
     "output_type": "execute_result"
    }
   ],
   "source": [
    "%sx mkdir tareagit"
   ]
  },
  {
   "cell_type": "markdown",
   "id": "adult-certification",
   "metadata": {},
   "source": [
    "## Comandos Git\n",
    "Se mostrarán a continuación una serie de comandos Git como ejemplo de versionar un directorio (root) y agregando el contenido usual de archivos y carpetas con los que se trabajaría un proyecto de software o las tareas de laboratorios.\n",
    "\n",
    "### Crear el repositorio\n",
    "Para poder iniciar el repositorio, se creará un directorio *root* llamado **gitroot** en donde se hará el laboratorio ejemplo del funcionamiento de Git, para eso ejecutamos el comando para crear el dicho directorio:"
   ]
  },
  {
   "cell_type": "code",
   "execution_count": 45,
   "id": "quality-contact",
   "metadata": {},
   "outputs": [],
   "source": [
    "%mkdir c:\\Users\\luise\\gitroot"
   ]
  },
  {
   "cell_type": "markdown",
   "id": "accepting-cowboy",
   "metadata": {},
   "source": [
    "Nos cambiamos al directorio que acabamos de crear para el ejemplo:"
   ]
  },
  {
   "cell_type": "code",
   "execution_count": 46,
   "id": "funky-galaxy",
   "metadata": {},
   "outputs": [
    {
     "name": "stdout",
     "output_type": "stream",
     "text": [
      "c:\\Users\\luise\\gitroot\n"
     ]
    }
   ],
   "source": [
    "%cd c:\\Users\\luise\\gitroot"
   ]
  },
  {
   "cell_type": "markdown",
   "id": "parliamentary-lesson",
   "metadata": {},
   "source": [
    "Listamos el directorio, y no damos cuenta que está vacío de información:"
   ]
  },
  {
   "cell_type": "code",
   "execution_count": 48,
   "id": "acute-disney",
   "metadata": {},
   "outputs": [
    {
     "data": {
      "text/plain": [
       "[' Volume in drive C is OS',\n",
       " ' Volume Serial Number is 664C-5F55',\n",
       " '',\n",
       " ' Directory of c:\\\\Users\\\\luise\\\\gitroot',\n",
       " '',\n",
       " '08/02/2021  22:25    <DIR>          .',\n",
       " '08/02/2021  22:25    <DIR>          ..',\n",
       " '               0 File(s)              0 bytes',\n",
       " '               2 Dir(s)  131,144,065,024 bytes free']"
      ]
     },
     "execution_count": 48,
     "metadata": {},
     "output_type": "execute_result"
    }
   ],
   "source": [
    "%sx dir"
   ]
  },
  {
   "cell_type": "markdown",
   "id": "potential-transparency",
   "metadata": {},
   "source": [
    "y se ejecuta el comando ***git init*** para inicializar el uso del versionamiento del repositorio del directorio que acabamos de crear:"
   ]
  },
  {
   "cell_type": "code",
   "execution_count": 49,
   "id": "southeast-suspect",
   "metadata": {},
   "outputs": [
    {
     "data": {
      "text/plain": [
       "['Initialized empty Git repository in C:/Users/luise/gitroot/.git/']"
      ]
     },
     "execution_count": 49,
     "metadata": {},
     "output_type": "execute_result"
    }
   ],
   "source": [
    "%sx git init"
   ]
  },
  {
   "cell_type": "markdown",
   "id": "instant-mozambique",
   "metadata": {},
   "source": [
    "Vemos el estado del repositorio del directorio donde nos encontramos:"
   ]
  },
  {
   "cell_type": "code",
   "execution_count": 51,
   "id": "painted-chance",
   "metadata": {},
   "outputs": [
    {
     "data": {
      "text/plain": [
       "['On branch master',\n",
       " '',\n",
       " 'No commits yet',\n",
       " '',\n",
       " 'nothing to commit (create/copy files and use \"git add\" to track)']"
      ]
     },
     "execution_count": 51,
     "metadata": {},
     "output_type": "execute_result"
    }
   ],
   "source": [
    "%sx git status"
   ]
  },
  {
   "cell_type": "markdown",
   "id": "numeric-congress",
   "metadata": {},
   "source": [
    "Los mensajes del status no indican lo siguiente:\n",
    "    * **On branch master:** \n",
    "    * **No commits yet:** nos indica que es un directorio nuevo y que no hay historia generada aún, y sugiere usar el comando *git add* para agregar el archivo para que pueda empezar a crear su historia."
   ]
  }
 ],
 "metadata": {
  "kernelspec": {
   "display_name": "Python 3",
   "language": "python",
   "name": "python3"
  },
  "language_info": {
   "codemirror_mode": {
    "name": "ipython",
    "version": 3
   },
   "file_extension": ".py",
   "mimetype": "text/x-python",
   "name": "python",
   "nbconvert_exporter": "python",
   "pygments_lexer": "ipython3",
   "version": "3.8.5"
  }
 },
 "nbformat": 4,
 "nbformat_minor": 5
}
